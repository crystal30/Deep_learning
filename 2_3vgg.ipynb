{
 "cells": [
  {
   "cell_type": "code",
   "execution_count": 1,
   "metadata": {
    "colab": {
     "base_uri": "https://localhost:8080/",
     "height": 34
    },
    "colab_type": "code",
    "executionInfo": {
     "elapsed": 2792,
     "status": "ok",
     "timestamp": 1580394706494,
     "user": {
      "displayName": "赵水静",
      "photoUrl": "",
      "userId": "11033105468688514050"
     },
     "user_tz": -480
    },
    "id": "NAUMx0Qzn1Qk",
    "outputId": "4e4f4dfa-1b83-4877-dd51-2b62a8240fad"
   },
   "outputs": [
    {
     "name": "stdout",
     "output_type": "stream",
     "text": [
      "Drive already mounted at /content/drive; to attempt to forcibly remount, call drive.mount(\"/content/drive\", force_remount=True).\n"
     ]
    }
   ],
   "source": [
    "from google.colab import drive\n",
    "drive.mount('/content/drive') "
   ]
  },
  {
   "cell_type": "code",
   "execution_count": 2,
   "metadata": {
    "colab": {
     "base_uri": "https://localhost:8080/",
     "height": 80
    },
    "colab_type": "code",
    "executionInfo": {
     "elapsed": 3876,
     "status": "ok",
     "timestamp": 1580394707591,
     "user": {
      "displayName": "赵水静",
      "photoUrl": "",
      "userId": "11033105468688514050"
     },
     "user_tz": -480
    },
    "id": "v9DvaxzKn7WY",
    "outputId": "a398e553-23a0-4400-f9f8-25c1a7b0f935"
   },
   "outputs": [
    {
     "data": {
      "text/html": [
       "<p style=\"color: red;\">\n",
       "The default version of TensorFlow in Colab will soon switch to TensorFlow 2.x.<br>\n",
       "We recommend you <a href=\"https://www.tensorflow.org/guide/migrate\" target=\"_blank\">upgrade</a> now \n",
       "or ensure your notebook will continue to use TensorFlow 1.x via the <code>%tensorflow_version 1.x</code> magic:\n",
       "<a href=\"https://colab.research.google.com/notebooks/tensorflow_version.ipynb\" target=\"_blank\">more info</a>.</p>\n"
      ],
      "text/plain": [
       "<IPython.core.display.HTML object>"
      ]
     },
     "metadata": {
      "tags": []
     },
     "output_type": "display_data"
    },
    {
     "name": "stdout",
     "output_type": "stream",
     "text": [
      "['readme.html', 'batches.meta', 'data_batch_1', 'data_batch_2', 'data_batch_5', 'test_batch', 'data_batch_4', 'data_batch_3', '.ipynb_checkpoints']\n"
     ]
    }
   ],
   "source": [
    "import tensorflow as tf\n",
    "import _pickle as cPickle\n",
    "import numpy as np\n",
    "import os\n",
    "\n",
    "CIFAR_DIR = \"/content/drive/My Drive/Colab Notebooks/cifar-10-batches-py\"\n",
    "print(os.listdir(CIFAR_DIR)) "
   ]
  },
  {
   "cell_type": "code",
   "execution_count": 0,
   "metadata": {
    "colab": {},
    "colab_type": "code",
    "id": "2OANmaCvn-LA"
   },
   "outputs": [],
   "source": [
    "def load_data(filename):\n",
    "    \"\"\"read data from data file.\"\"\"\n",
    "    \n",
    "    # 注： 在load数据时，通过添加encoding='bytes'，解决'ascii' codec can't decode byte 0x8b in position 6: ordinal not in range(128)\n",
    "    with open(filename, 'rb') as f:\n",
    "        data = cPickle.load(f, encoding='bytes')\n",
    "        return data[b'data'], data[b'labels']\n",
    "\n",
    "# tensorflow.Dataset  同样可以实现CifarData的效果\n",
    "class CifarData:\n",
    "    def __init__(self, filenames, need_shuffle): # need_shuffle: 指是否需要打乱样本的顺序，越无序，训练的结果越好\n",
    "        all_data = []\n",
    "        all_labels = []\n",
    "        for filename in filenames:\n",
    "            datas, labels = load_data(filename)\n",
    "            all_data.append(datas)\n",
    "            all_labels.append(labels)\n",
    "        \n",
    "        self._data = np.vstack(all_data)\n",
    "         \n",
    "        # 对数据做归一化处理，像素值都是在0-255之间，故做如下处理，将其归一化在（-1，1）之间 # 提高训练的准确率\n",
    "        # 对比，没有self._data = self._data / 127.5 - 1 和有此语句的准确率\n",
    "        # 因为像素值是在 0——255之间，所以，/127.5，其值在0-2之间，再减去1，则确保元素的值在（-1，1）之间。\n",
    "        # 因为 sigmoid函数若数据偏向一方，梯度会消失，归一化之后将不再会出现这种问题\n",
    "        self._data = self._data / 127.5 - 1 \n",
    "        self._labels = np.hstack(all_labels)\n",
    "        \n",
    "        \n",
    "        # print(\"self._data.shape\")\n",
    "        # print(self._data.shape)\n",
    "        # print(\"self._labels.shape\")\n",
    "        # print(self._labels.shape)\n",
    "        \n",
    "        self._num_examples = self._data.shape[0]\n",
    "        self._need_shuffle = need_shuffle\n",
    "        self._indicator = 0  # self._indicator 用来分batch的时候用\n",
    "        \n",
    "        if self._need_shuffle:\n",
    "            self._shuffle_data()\n",
    "    \n",
    "    def _shuffle_data(self):\n",
    "        p = np.random.permutation(self._num_examples)\n",
    "        self._data = self._data[p]\n",
    "        self._labels = self._labels[p]\n",
    "    \n",
    "    def next_batch(self, batch_size):\n",
    "        \"\"\"return batch_size examples as a batch.\"\"\"\n",
    "        \n",
    "        end_indicator = self._indicator + batch_size\n",
    "        if end_indicator > self._num_examples:\n",
    "            if self._need_shuffle:\n",
    "                self._shuffle_data()\n",
    "                self._indicator = 0\n",
    "                end_indicator = batch_size\n",
    "            else:\n",
    "                raise Exception(\"have no more examples\")\n",
    "        \n",
    "        if end_indicator > self._num_examples:\n",
    "            raise Exception(\"batch size is larger than all examples\")\n",
    "        \n",
    "        batch_data = self._data[self._indicator: end_indicator]\n",
    "        batch_labels = self._labels[self._indicator: end_indicator]\n",
    "        \n",
    "        self._indicator = end_indicator\n",
    "        return batch_data, batch_labels\n",
    "    \n",
    "train_filenames = [os.path.join(CIFAR_DIR, 'data_batch_%d' % i) for i in range(1,6)]\n",
    "test_filenames = [os.path.join(CIFAR_DIR, 'test_batch')]\n",
    "\n",
    "train_data = CifarData(train_filenames, True)\n",
    "test_data = CifarData(test_filenames, False)\n",
    "\n",
    "# batch_data, batch_labels = train_data.next_batch(500)\n",
    "# print('batch_data')\n",
    "# print(batch_data)\n",
    "# print('batch_labels')\n",
    "# print(batch_labels)"
   ]
  },
  {
   "cell_type": "code",
   "execution_count": 4,
   "metadata": {
    "colab": {
     "base_uri": "https://localhost:8080/",
     "height": 343
    },
    "colab_type": "code",
    "executionInfo": {
     "elapsed": 6037,
     "status": "ok",
     "timestamp": 1580394709771,
     "user": {
      "displayName": "赵水静",
      "photoUrl": "",
      "userId": "11033105468688514050"
     },
     "user_tz": -480
    },
    "id": "NAufSpDfoCQJ",
    "outputId": "69d7ef52-8d43-425d-d53a-089233ff3292"
   },
   "outputs": [
    {
     "name": "stdout",
     "output_type": "stream",
     "text": [
      "WARNING:tensorflow:From <ipython-input-4-3212f174f107>:17: conv2d (from tensorflow.python.layers.convolutional) is deprecated and will be removed in a future version.\n",
      "Instructions for updating:\n",
      "Use `tf.keras.layers.Conv2D` instead.\n",
      "WARNING:tensorflow:From /usr/local/lib/python3.6/dist-packages/tensorflow_core/python/layers/convolutional.py:424: Layer.apply (from tensorflow.python.keras.engine.base_layer) is deprecated and will be removed in a future version.\n",
      "Instructions for updating:\n",
      "Please use `layer.__call__` method instead.\n",
      "WARNING:tensorflow:From <ipython-input-4-3212f174f107>:23: max_pooling2d (from tensorflow.python.layers.pooling) is deprecated and will be removed in a future version.\n",
      "Instructions for updating:\n",
      "Use keras.layers.MaxPooling2D instead.\n",
      "WARNING:tensorflow:From <ipython-input-4-3212f174f107>:52: flatten (from tensorflow.python.layers.core) is deprecated and will be removed in a future version.\n",
      "Instructions for updating:\n",
      "Use keras.layers.flatten instead.\n",
      "WARNING:tensorflow:From <ipython-input-4-3212f174f107>:53: dense (from tensorflow.python.layers.core) is deprecated and will be removed in a future version.\n",
      "Instructions for updating:\n",
      "Use keras.layers.Dense instead.\n",
      "WARNING:tensorflow:From /usr/local/lib/python3.6/dist-packages/tensorflow_core/python/ops/losses/losses_impl.py:121: where (from tensorflow.python.ops.array_ops) is deprecated and will be removed in a future version.\n",
      "Instructions for updating:\n",
      "Use tf.where in 2.0, which has the same broadcast rule as np.where\n"
     ]
    }
   ],
   "source": [
    "x = tf.placeholder(tf.float32, [None, 3072]) # 32*32*3 = 3072 \n",
    "y = tf.placeholder(tf.int64, [None])\n",
    "\n",
    "# 由于卷积神经网络输入的是图片，所以输入x应该是具有3通道的图片格式\n",
    "# 图像大小： 32*32*3\n",
    "x_image = tf.reshape(x, [-1, 3, 32, 32]) # -1，表示的是样本的个数\n",
    "x_image = tf.transpose(x_image, perm=[0,2,3,1]) #交换通道\n",
    "\n",
    "# conv1:神经元图， feature_map， 输出图像\n",
    "# 过卷积层图像大小没有变化\n",
    "# 输入图像的size：32*32\n",
    "conv1_1 = tf.layers.conv2d(x_image, \n",
    "                           32, # output channel number\n",
    "                           (3,3), # kernel size\n",
    "                           padding = 'same', # 是否补0，若为'same'，则说明输入图像的大小和输出图像的大小相同\n",
    "                           activation = tf.nn.relu,\n",
    "                           name = 'conv1_1') # 给本层做一个命名，打印图像时显示，以便对每一层作区分\n",
    "\n",
    "conv1_2 = tf.layers.conv2d(conv1_1, \n",
    "                           32, # output channel number\n",
    "                           (3,3), # kernel size\n",
    "                           padding = 'same', # 是否补0，若为'same'，则说明输入图像的大小和输出图像的大小相同\n",
    "                           activation = tf.nn.relu,\n",
    "                           name = 'conv1_2') # 给本层做一个命名，打印图像时显示，以便对每一层作区分\n",
    "\n",
    "\n",
    "# 过池化层，kernel size为2， 图像变为以前的二分之一\n",
    "pooling1 = tf.layers.max_pooling2d(conv1_2,\n",
    "                                   (2, 2), # kernel size\n",
    "                                   (2, 2), # stride\n",
    "                                   name = 'pool1')\n",
    "\n",
    "# 输入图像的size：16*16\n",
    "conv2_1 = tf.layers.conv2d(pooling1, \n",
    "                           32, # output channel number\n",
    "                           (3,3), # kernel size\n",
    "                           padding = 'same', # 是否补0，若为'same'，则说明输入图像的大小和输出图像的大小相同\n",
    "                           activation = tf.nn.relu,\n",
    "                           name = 'conv2_1')\n",
    "\n",
    "conv2_2 = tf.layers.conv2d(conv2_1, \n",
    "                           32, # output channel number\n",
    "                           (3,3), # kernel size\n",
    "                           padding = 'same', # 是否补0，若为'same'，则说明输入图像的大小和输出图像的大小相同\n",
    "                           activation = tf.nn.relu,\n",
    "                           name = 'conv2_2')\n",
    "\n",
    "pooling2 = tf.layers.max_pooling2d(conv2_2,\n",
    "                                   (2, 2), # kernel size\n",
    "                                   (2, 2), # stride\n",
    "                                   name = 'pool2')\n",
    "\n",
    "# 输入图像的size：8*8\n",
    "conv3_1 = tf.layers.conv2d(pooling2, \n",
    "                           32, # output channel number\n",
    "                           (3,3), # kernel size\n",
    "                           padding = 'same', # 是否补0，若为'same'，则说明输入图像的大小和输出图像的大小相同\n",
    "                           activation = tf.nn.relu,\n",
    "                           name = 'conv3_1')\n",
    "\n",
    "conv3_2 = tf.layers.conv2d(pooling2, \n",
    "                           32, # output channel number\n",
    "                           (3,3), # kernel size\n",
    "                           padding = 'same', # 是否补0，若为'same'，则说明输入图像的大小和输出图像的大小相同\n",
    "                           activation = tf.nn.relu,\n",
    "                           name = 'conv3_2')\n",
    "\n",
    "pooling3 = tf.layers.max_pooling2d(conv3_2,\n",
    "                                   (2, 2), # kernel size\n",
    "                                   (2, 2), # stride\n",
    "                                   name = 'pooling3')\n",
    "\n",
    "# 输入图像的size：4*4*32\n",
    "flatten= tf.layers.flatten(pooling3) # 将其展成 [None, 4*4*32] \n",
    "y_ = tf.layers.dense(flatten, 10)\n",
    "\n",
    "# mean square loss\n",
    "# p_y = tf.nn.softmax(y_) # p_y [[0.1, 0.01, 0.9 ......0.03], [], [], ...[]]\n",
    "# y_one_hot = tf.one_hot(y, 10, dtype = tf.float32) # y [2,......] y_one_hot [[0, 0, 1, ......0], [], [], ...[]]\n",
    "# loss = tf.reduce_mean(tf.square(y_one_hot - p_y))\n",
    "\n",
    "# Cross entropy loss\n",
    "# y_ -> softmax\n",
    "# y -> one_hot\n",
    "# loss = ylogy_\n",
    "loss = tf.losses.sparse_softmax_cross_entropy(labels = y, logits= y_)\n",
    "\n",
    "# index\n",
    "y_predict = tf.argmax(y_, 1)\n",
    "\n",
    "#[1, 0, 1, 1, 1, 0, 0, 0]\n",
    "correct_prediction = tf.equal(y_predict, y)\n",
    "accuracy = tf.reduce_mean(tf.cast(correct_prediction, tf.float64))\n",
    "\n",
    "# tf,name_scope: A context manager for use when defining a Python op.\n",
    "# tf.train.AdamOptimizer: Optimizer that implements the Adam algorithm.\n",
    "# ? Adam algorithm\n",
    "\n",
    "# tf.train.AdamOptimizer.minimize\n",
    "# Add operations to minimize loss by updating var_list.\n",
    "# This method simply combines calls compute_gradients() and apply_gradients(). \n",
    "# If you want to process the gradient before applying them call compute_gradients() and apply_gradients() \n",
    "# explicitly instead of using this function\n",
    "with tf.name_scope('train_op'):\n",
    "    train_op = tf.train.AdamOptimizer(1e-3).minimize(loss)\n",
    "    "
   ]
  },
  {
   "cell_type": "code",
   "execution_count": 0,
   "metadata": {
    "colab": {
     "base_uri": "https://localhost:8080/",
     "height": 51
    },
    "colab_type": "code",
    "id": "JTdhEuaboIAo",
    "outputId": "94d09365-aecd-4956-efdb-9f6bd5b9fdf8"
   },
   "outputs": [
    {
     "name": "stdout",
     "output_type": "stream",
     "text": [
      "[Train] step: 0, loss: 2.31498, acc: 0.11600\n",
      "[Test] Step: 0, acc: 0.12810\n"
     ]
    }
   ],
   "source": [
    "init = tf.global_variables_initializer()\n",
    "batch_size = 500\n",
    "train_steps = 5000\n",
    "test_steps = 20\n",
    "\n",
    "with tf.Session() as sess:\n",
    "    sess.run(init)\n",
    "    for i in range(train_steps): \n",
    "        batch_data, batch_labels = train_data.next_batch(batch_size)\n",
    "        loss_val, acc_val, _ = sess.run(\n",
    "            [loss, accuracy, train_op],\n",
    "            feed_dict = {\n",
    "                x: batch_data,\n",
    "                y: batch_labels})\n",
    "        \n",
    "        if i % 500 == 0:\n",
    "            print('[Train] step: %d, loss: %4.5f, acc: %4.5f'\\\n",
    "                 % (i, loss_val, acc_val))\n",
    "        \n",
    "        # 在测试集上评测的代码\n",
    "        if i % 500 == 0:\n",
    "            test_data = CifarData(test_filenames, False)\n",
    "            all_test_acc_val = []\n",
    "            for j in range(test_steps):\n",
    "                test_batch_data, test_batch_labels \\\n",
    "                    = test_data.next_batch(batch_size)\n",
    "                test_acc_val = sess.run(\n",
    "                    [accuracy],\n",
    "                    feed_dict = {\n",
    "                        x: test_batch_data,\n",
    "                        y: test_batch_labels})\n",
    "                \n",
    "                all_test_acc_val.append(test_acc_val)\n",
    "            \n",
    "            test_acc = np.mean(all_test_acc_val)\n",
    "            print('[Test] Step: %d, acc: %4.5f' % (i, test_acc))"
   ]
  }
 ],
 "metadata": {
  "colab": {
   "authorship_tag": "ABX9TyP9/+6GY//L3+gOo9Jtp3YQ",
   "collapsed_sections": [],
   "name": "convnet.ipynb",
   "provenance": []
  },
  "kernelspec": {
   "display_name": "Python 3",
   "language": "python",
   "name": "python3"
  },
  "language_info": {
   "codemirror_mode": {
    "name": "ipython",
    "version": 3
   },
   "file_extension": ".py",
   "mimetype": "text/x-python",
   "name": "python",
   "nbconvert_exporter": "python",
   "pygments_lexer": "ipython3",
   "version": "3.6.5"
  }
 },
 "nbformat": 4,
 "nbformat_minor": 1
}
